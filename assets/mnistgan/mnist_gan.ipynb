{
 "cells": [
  {
   "cell_type": "markdown",
   "metadata": {},
   "source": [
    "# How to write number? by GAN of course!\n",
    "\n",
    "Lets assume, you are a guy who have just heard about GAN, you have read some stuffs but cannot know what they are bluffering about. Or you have already knew the basic consepts of GAN, but still have some questions in detail. And most importantly, you are eager to build some cool stuffs but do not know where to start. If that is the case, then Congratulations! This is exactly what you need.\n",
    "\n",
    "We are going to build a GAN that trains on MNIST dataset and is capable of generating hand-written-like number images with the specified content. To achieve this, we are replacing the traditional binary classification discriminator to multiple classification, and labels are introduced in the latent variables (input of generator).\n",
    "\n",
    "## References and further reading\n",
    "#### Generative Adversarial Networks: Build Your First Models\n",
    "- by Renato Candido et.al.\n",
    "- Published in Real Python, \n",
    "<https://realpython.com/generative-adversarial-networks/>\n",
    "\n",
    "This article provides quite a lot of ideas for the article you are watching. Actually, you could regard this one as the modification and expansion of the article above. Of course, that article stops at building a GAN for MNIST without prompt or label input, and this article aims to share the successful experience of exploring and extending that work. It is suggested that if you are unfamiliar with some concepts in this article, you could watch that one ahead.\n",
    "\n",
    "#### Generative Adversarial Networks\n",
    "- Ian J. Goodfellow, Jean Pouget-Abadie, Mehdi Mirza, Bing Xu, David Warde-Farley, Sherjil Ozair, Aaron Courville, Yoshua Bengio\n",
    "- Available here <https://arxiv.org/abs/1406.2661>\n",
    "\n",
    "The original paper of GAN, the place where the entire story begins, it is fun to have a peak isn't it.\n",
    "\n",
    "#### Improved Techniques for Training GANs\n",
    "- Tim Salimans, Ian Goodfellow, Wojciech Zaremba, Vicki Cheung, Alec Radford, Xi Chen\n",
    "- Available here <https://arxiv.org/abs/1606.03498>\n",
    "\n",
    "Written by those guys who invented GAN, an article for GAN training techniques.\n",
    "\n",
    "#### Unsupervised Image-to-Image Translation Networks\n",
    "- Ming-Yu Liu, Thomas Breuel, Jan Kautz\n",
    "- Available here <https://arxiv.org/abs/1703.00848>\n",
    "\n",
    "Advance application of GAN. If you are extremely interested in GAN and image-to-image trainslation, it is recommended.\n",
    "\n",
    "\n",
    "## Environment setup\n",
    "We are using pytorch to build the model, you can go to <https://pytorch.org/> to download it. We are using matplotlib (<https://matplotlib.org/>) to plot the image, it is optional since pytorch also provides convinient interface to save the images. Feel free to modify some code if you really have problem with installation (or you hate the package very much). I also recommend you to use conda for package managing, if you do not know it, go to <https://www.anaconda.com/download> to download, spend an afternoon to get familiar with it, and enjoy."
   ]
  },
  {
   "cell_type": "code",
   "execution_count": 16,
   "metadata": {},
   "outputs": [],
   "source": [
    "import torch\n",
    "from torch import nn\n",
    "\n",
    "import math\n",
    "import matplotlib.pyplot as plt\n",
    "import torchvision\n",
    "import torchvision.transforms as transforms\n",
    "import time"
   ]
  },
  {
   "cell_type": "markdown",
   "metadata": {},
   "source": [
    "The following code is about setting up device and downloading dataset. Pick a number you like as the `seed`, and choose your device. The MNIST dataset will be downloaded to your disk, by default is at here, you can modify it by changing `mnist_path`. Since it is the generation task rather than identification task, we do not need to split train and test sets, but label is needed since contents requires supervision. And choose your `batch_size` for optimul training."
   ]
  },
  {
   "cell_type": "code",
   "execution_count": 17,
   "metadata": {},
   "outputs": [
    {
     "name": "stdout",
     "output_type": "stream",
     "text": [
      "cuda\n"
     ]
    }
   ],
   "source": [
    "seed = 95\n",
    "mnist_path = '.'\n",
    "batch_size = 32\n",
    "\n",
    "\n",
    "torch.manual_seed(seed)\n",
    "\n",
    "device = \"\"\n",
    "if torch.cuda.is_available():\n",
    "    device = torch.device(\"cuda\")\n",
    "else:\n",
    "    device = torch.device(\"cpu\")\n",
    "\n",
    "print(device)\n",
    "\n",
    "\n",
    "transform = transforms.Compose(\n",
    "    [transforms.ToTensor(), transforms.Normalize((0.5,), (0.5,))]\n",
    ")\n",
    "\n",
    "train_set = torchvision.datasets.MNIST(\n",
    "    root=mnist_path, train=True, download=True, transform=transform\n",
    ")\n",
    "\n",
    "train_loader = torch.utils.data.DataLoader(\n",
    "    train_set, batch_size=batch_size, shuffle=True\n",
    ")"
   ]
  },
  {
   "cell_type": "markdown",
   "metadata": {},
   "source": [
    "## Network structure\n",
    "![struct](struct.png)\n",
    "The GAN network composed by two subnetworks as conventional GAN. Output of Generator $G$ and input of discriminator $D$ are Images with the format of MNIST data ($1\\times 28\\times 28$ image). Input of $G$ is a 42 dimention vector, the first 10 of it is hotkey of 0-9, providing prompt for the Generator. Output of $D$ is 11 dimentional, meaning a 11 classifier with classes defined as identifying 0-9 and unrecognizable. All the layers are linear for simplification."
   ]
  },
  {
   "cell_type": "code",
   "execution_count": 18,
   "metadata": {},
   "outputs": [],
   "source": [
    "class Discriminator(nn.Module):\n",
    "    def __init__(self):\n",
    "        super().__init__()\n",
    "        self.model = nn.Sequential(\n",
    "            nn.Linear(784, 1024),\n",
    "            nn.ReLU(),\n",
    "            nn.Dropout(0.3),\n",
    "            nn.Linear(1024, 512),\n",
    "            nn.ReLU(),\n",
    "            nn.Dropout(0.3),\n",
    "            nn.Linear(512, 256),\n",
    "            nn.ReLU(),\n",
    "            nn.Dropout(0.3),\n",
    "            nn.Linear(256, 11),\n",
    "            nn.Sigmoid(),\n",
    "        )\n",
    "\n",
    "    def forward(self, x):\n",
    "        x = x.view(x.size(0), 784)\n",
    "        output = self.model(x)\n",
    "        return output\n",
    "    \n",
    "discriminator = Discriminator().to(device=device)\n",
    "\n",
    "class Generator(nn.Module):\n",
    "    def __init__(self):\n",
    "        super().__init__()\n",
    "        self.model = nn.Sequential(\n",
    "            nn.Linear(42, 256),\n",
    "            nn.ReLU(),\n",
    "            nn.Linear(256, 512),\n",
    "            nn.ReLU(),\n",
    "            nn.Linear(512, 1024),\n",
    "            nn.ReLU(),\n",
    "            nn.Linear(1024, 784),\n",
    "            nn.Tanh(),\n",
    "        )\n",
    "\n",
    "    def forward(self, x):\n",
    "        output = self.model(x)\n",
    "        output = output.view(x.size(0), 1, 28, 28)\n",
    "        return output\n",
    "\n",
    "generator = Generator().to(device=device)\n",
    "\n"
   ]
  },
  {
   "cell_type": "markdown",
   "metadata": {},
   "source": [
    "## Training\n",
    "First define two functions for utility."
   ]
  },
  {
   "cell_type": "code",
   "execution_count": 19,
   "metadata": {},
   "outputs": [],
   "source": [
    "\n",
    "def labelToHotKey(labels,classes,device):\n",
    "    real_samples_labels = torch.zeros((len(labels), classes),device=device)\n",
    "    for label,target in zip(labels,real_samples_labels):\n",
    "        target[label] = 1\n",
    "\n",
    "    return real_samples_labels\n",
    "\n",
    "def genLatentSpace(labels,device):\n",
    "    latent_space_samples = torch.randn((len(labels), 32),device=device)\n",
    "    hotkey_labels = labelToHotKey(labels,10,device)\n",
    "    return torch.cat((hotkey_labels,latent_space_samples),dim=1), labels\n"
   ]
  },
  {
   "cell_type": "markdown",
   "metadata": {},
   "source": [
    "Since all the loss are calculated at the output of $D$, which is a classification problem, we choose Cross-Entropy Loss, there are two optimization tasks for both Discriminator and Generator, we define two Adam optimizers. Learning rate `lr` is suggested to be smaller, and `num_epochs` could be adjusted based on your device and the time you want to cost.\n",
    "\n",
    "For each batch of data, we split the training into two parts. First is the discriminator part, we blend render generated image and real image from MNIST together, and provide true labels. For true images, labels are as it is, for render generated images, labels are set to 'unrecognized' for telling discriminator that those are generated. We are using `optimizer_discriminator` optimizer to handle the update. The `backward()` operation will calculate the derivative of the entire network, however, since we have input only the discriminator's parameters, the optimizer will only update the discriminator. Second, we train the generator. Since we hope that generator could output digits as prompt commanded, we will provide labels based on input prompt. Loss are calculated at the output of discriminator, but our optimizer `optimizer_generator` takes input of only generator's parameters, the update will not change discriminator.\n",
    "\n",
    "If you fell that for Generator and Discriminator, one is significantly stronger than the other, you could adjust training bias, that is you could either provide more training iterations for the weak, or assign different learning rate for them to balance the performance."
   ]
  },
  {
   "cell_type": "code",
   "execution_count": 20,
   "metadata": {},
   "outputs": [
    {
     "name": "stdout",
     "output_type": "stream",
     "text": [
      "Epoch: 0 Loss D.: 1.7110393047332764\n",
      "Epoch: 0 Loss G.: 1.676532506942749\n",
      "Epoch: 1 Loss D.: 1.6947855949401855\n",
      "Epoch: 1 Loss G.: 1.6852365732192993\n",
      "Epoch: 2 Loss D.: 1.6806467771530151\n",
      "Epoch: 2 Loss G.: 2.016265869140625\n",
      "Epoch: 3 Loss D.: 1.616213083267212\n",
      "Epoch: 3 Loss G.: 2.4191174507141113\n",
      "Epoch: 4 Loss D.: 1.6142828464508057\n",
      "Epoch: 4 Loss G.: 2.457461357116699\n",
      "Epoch: 5 Loss D.: 1.5574415922164917\n",
      "Epoch: 5 Loss G.: 2.508073091506958\n",
      "Epoch: 6 Loss D.: 1.5647692680358887\n",
      "Epoch: 6 Loss G.: 2.4915645122528076\n",
      "Epoch: 7 Loss D.: 1.61936354637146\n",
      "Epoch: 7 Loss G.: 2.336106538772583\n",
      "Epoch: 8 Loss D.: 1.6083598136901855\n",
      "Epoch: 8 Loss G.: 2.4015231132507324\n",
      "Epoch: 9 Loss D.: 1.6221799850463867\n",
      "Epoch: 9 Loss G.: 2.220031261444092\n",
      "trained time:  434.67056941986084\n"
     ]
    }
   ],
   "source": [
    "\n",
    "lr = 0.0001\n",
    "num_epochs = 20\n",
    "\n",
    "loss_function = nn.CrossEntropyLoss()\n",
    "\n",
    "optimizer_discriminator = torch.optim.Adam(discriminator.parameters(), lr=lr)\n",
    "optimizer_generator = torch.optim.Adam(generator.parameters(), lr=lr)\n",
    "\n",
    "start_time = time.time()\n",
    "\n",
    "for epoch in range(num_epochs):\n",
    "    for n, (real_samples, mnist_labels) in enumerate(train_loader):\n",
    "        batch_size = len(mnist_labels)\n",
    "        # Data for training the discriminator\n",
    "        real_samples = real_samples.to(device=device)\n",
    "        mnist_labels = mnist_labels.to(device)\n",
    "        real_samples_labels = labelToHotKey(mnist_labels,11,device)\n",
    "\n",
    "        latent_space_samples,_ = genLatentSpace(torch.randint(0,10,size=(batch_size,),device=device),device)\n",
    "        generated_samples = generator(latent_space_samples)\n",
    "        generated_samples_labels = torch.zeros((batch_size, 11)).to(\n",
    "            device=device\n",
    "        )\n",
    "        generated_samples_labels[:,10] = 1\n",
    "        all_samples = torch.cat((real_samples, generated_samples))\n",
    "        all_samples_labels = torch.cat(\n",
    "            (real_samples_labels, generated_samples_labels)\n",
    "        )\n",
    "\n",
    "        # Training the discriminator\n",
    "        discriminator.zero_grad()\n",
    "        output_discriminator = discriminator(all_samples)\n",
    "        loss_discriminator = loss_function(\n",
    "            output_discriminator, all_samples_labels\n",
    "        )\n",
    "        loss_discriminator.backward()\n",
    "        optimizer_discriminator.step()\n",
    "\n",
    "        # Data for training the generator\n",
    "        latent_space_samples, gen_labels = genLatentSpace(torch.randint(0,10,size=(batch_size,),device=device),device)\n",
    "        real_samples_labels = labelToHotKey(gen_labels,11,device)\n",
    "\n",
    "        # Training the generator\n",
    "        generator.zero_grad()\n",
    "        generated_samples = generator(latent_space_samples)\n",
    "        output_discriminator_generated = discriminator(generated_samples)\n",
    "        loss_generator = loss_function(\n",
    "            output_discriminator_generated, real_samples_labels\n",
    "        )\n",
    "        loss_generator.backward()\n",
    "        optimizer_generator.step()\n",
    "\n",
    "    print(f\"Epoch: {epoch} Loss D.: {loss_discriminator}\")\n",
    "    print(f\"Epoch: {epoch} Loss G.: {loss_generator}\")\n",
    "\n",
    "endtime = time.time() - start_time\n",
    "print('trained time: ',endtime)"
   ]
  },
  {
   "cell_type": "markdown",
   "metadata": {},
   "source": [
    "## Output\n",
    "Finally, lets see the output. We could directly plot the image using matplotlib. For giving a straight forward observation that we could control the digit if output, lets generate 10 outputs from 0 to 9.\n",
    "\n",
    "Here we could apply another trick, that is to set a threshold as `thres`. If the value of a pixel is above threshold, then it is set as 1 otherwise 0. It will delete gray values and reduce noise for the output images."
   ]
  },
  {
   "cell_type": "code",
   "execution_count": 26,
   "metadata": {},
   "outputs": [
    {
     "data": {
      "image/png": "[encoded data removed]",
      "text/plain": [
       "<Figure size 640x480 with 10 Axes>"
      ]
     },
     "metadata": {},
     "output_type": "display_data"
    }
   ],
   "source": [
    "labels = torch.tensor(range(10))\n",
    "latent_space_samples,_ = genLatentSpace(labels,device)\n",
    "generated_samples = generator(latent_space_samples)\n",
    "\n",
    "generated_samples = generated_samples.cpu().detach()\n",
    "\n",
    "thres = 0.6\n",
    "dothres = True\n",
    "\n",
    "if(dothres):\n",
    "    generated_samples = generated_samples > thres\n",
    "\n",
    "for i in range(len(labels)):\n",
    "    ax = plt.subplot(1,len(labels), i + 1)\n",
    "    plt.imshow((generated_samples[i]).reshape(28, 28), cmap=\"gray_r\")\n",
    "    plt.xticks([])\n",
    "    plt.yticks([])"
   ]
  },
  {
   "cell_type": "markdown",
   "metadata": {},
   "source": [
    "The output image should be something like\n",
    "\n",
    "![](output.png)\n",
    "\n",
    "If not, please be patient, find out the problem and solve it.\n",
    "\n",
    "Good Luck!"
   ]
  }
 ],
 "metadata": {
  "kernelspec": {
   "display_name": "mllab",
   "language": "python",
   "name": "python3"
  },
  "language_info": {
   "codemirror_mode": {
    "name": "ipython",
    "version": 3
   },
   "file_extension": ".py",
   "mimetype": "text/x-python",
   "name": "python",
   "nbconvert_exporter": "python",
   "pygments_lexer": "ipython3",
   "version": "3.10.13"
  }
 },
 "nbformat": 4,
 "nbformat_minor": 2
}
